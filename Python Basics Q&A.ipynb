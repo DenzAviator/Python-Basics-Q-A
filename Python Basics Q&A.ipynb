{
 "cells": [
  {
   "cell_type": "markdown",
   "id": "466c47ab",
   "metadata": {},
   "source": [
    "1. In Python, what is the difference between a built-in function and a user-defined function? Provide an example of each. "
   ]
  },
  {
   "cell_type": "markdown",
   "id": "8526b531",
   "metadata": {},
   "source": [
    "(a) Built-in Function:\n",
    "    \n",
    "A built-in function in Python programming is a function that is provided by the Python interpreter as part of its standard library. These functions are already available for use without requiring any external or additional code or import statements. Examples of built-in functions include print(), len(), and input(). Here's an example using the print() function:"
   ]
  },
  {
   "cell_type": "code",
   "execution_count": 12,
   "id": "0ef4e5ed",
   "metadata": {},
   "outputs": [
    {
     "name": "stdout",
     "output_type": "stream",
     "text": [
      "Hello world!\n"
     ]
    }
   ],
   "source": [
    "# Example of bult-in-function\n",
    "print(\"Hello world!\")"
   ]
  },
  {
   "cell_type": "markdown",
   "id": "8dfc15ba",
   "metadata": {},
   "source": [
    "(b) User-defined Function:\n",
    "    \n",
    "A user-defined function is created by the programmer to perform a specific task or set of instructions. It allows you to define your own functions based on your requirements. You can define functions using the def keyword followed by a function name, parentheses for optional parameters, and a colon to begin the function's body. Here's an example of a user-defined function."
   ]
  },
  {
   "cell_type": "code",
   "execution_count": 13,
   "id": "8eaeb0aa",
   "metadata": {},
   "outputs": [
    {
     "name": "stdout",
     "output_type": "stream",
     "text": [
      "ineuron is my current programming school.\n"
     ]
    }
   ],
   "source": [
    "def country(school):\n",
    "    print(school + \" is my current programming school.\")\n",
    "country(\"ineuron\")"
   ]
  },
  {
   "cell_type": "markdown",
   "id": "aaad3a50",
   "metadata": {},
   "source": [
    "So, the key distinction is that built-in functions are pre-defined in Python and readily available, while user-defined functions are created by the programmer to extend the functionality of the language."
   ]
  },
  {
   "cell_type": "code",
   "execution_count": null,
   "id": "c6fc9b05",
   "metadata": {},
   "outputs": [],
   "source": []
  },
  {
   "cell_type": "markdown",
   "id": "f9540976",
   "metadata": {},
   "source": [
    "2. How can you pass arguments to a function in Python? Explain the difference between positional arguments and keyword arguments. "
   ]
  },
  {
   "cell_type": "markdown",
   "id": "faf29cad",
   "metadata": {},
   "source": [
    "(a) Positional Arguments:\n",
    "    \n",
    "Positional arguments are passed to a function based on their position or order. When you call a function and provide values for its parameters, Python matches the values to the parameters in the order they are defined. The values are assigned to the parameters based on their position. Here's an example:"
   ]
  },
  {
   "cell_type": "code",
   "execution_count": 14,
   "id": "89e7ab31",
   "metadata": {},
   "outputs": [
    {
     "name": "stdout",
     "output_type": "stream",
     "text": [
      "Hello Dennis! You are 30 years old.\n"
     ]
    }
   ],
   "source": [
    "# Example of Positional Argurements\n",
    "def greet(name, age):\n",
    "    print(f\"Hello {name}! You are {age} years old.\")\n",
    "\n",
    "greet(\"Dennis\", 30)"
   ]
  },
  {
   "cell_type": "markdown",
   "id": "aaf182d8",
   "metadata": {},
   "source": [
    "(b) Keyword Arguments:\n",
    "    \n",
    "Keyword arguments, also known as named arguments, are passed to a function by explicitly mentioning the parameter name and its corresponding value when calling the function. By using keyword arguments, the order of the arguments doesn't matter as long as you specify the parameter names. Here's an example:"
   ]
  },
  {
   "cell_type": "code",
   "execution_count": 22,
   "id": "8a00fadc",
   "metadata": {},
   "outputs": [
    {
     "name": "stdout",
     "output_type": "stream",
     "text": [
      "Hello Bob! You are 25 years old.\n"
     ]
    }
   ],
   "source": [
    "def greet(name, age):\n",
    "    print(f\"Hello {name}! You are {age} years old.\")\n",
    "\n",
    "greet(age=25, name=\"Bob\")"
   ]
  },
  {
   "cell_type": "markdown",
   "id": "2276b648",
   "metadata": {},
   "source": [
    "In this example, the arguments are passed as keyword arguments. The parameter name is assigned the value \"Bob\" because it is explicitly mentioned as name=\"Bob\", and the parameter age is assigned the value 25 because it is explicitly mentioned as age=25.\n",
    "\n",
    "Keyword arguments are useful when you have functions with many parameters or when you want to make your code more readable and self-explanatory. They allow you to pass arguments to a function based on their names rather than relying on their positions.\n",
    "\n",
    "It's also worth noting that you can mix positional and keyword arguments in a function call, as long as the positional arguments come before the keyword arguments. For example:\n"
   ]
  },
  {
   "cell_type": "code",
   "execution_count": null,
   "id": "be29b33b",
   "metadata": {},
   "outputs": [],
   "source": []
  },
  {
   "cell_type": "markdown",
   "id": "14fb80ad",
   "metadata": {},
   "source": [
    "3. What's the purpose of a return statement in a function? Can a function has multiple return statements? Explain with an example\n",
    "\n",
    "The purpose of a return statement in a function is to specify the value that the function should produce as its result. When a return statement is encountered in a function, the function immediately exits, and the value specified in the return statement is returned to the caller.\n",
    "\n",
    "Yes, a function can have multiple return statements. However, only one return statement can be executed during the execution of a function. Once a return statement is executed, the function terminates and control is returned to the caller.\n",
    "\n",
    "Here's an example to illustrate the concept:"
   ]
  },
  {
   "cell_type": "code",
   "execution_count": 23,
   "id": "7b70b845",
   "metadata": {},
   "outputs": [
    {
     "name": "stdout",
     "output_type": "stream",
     "text": [
      "B\n",
      "C\n"
     ]
    }
   ],
   "source": [
    "def get_grade(score):\n",
    "    if score >= 90:\n",
    "        return \"A\"\n",
    "    elif score >= 80:\n",
    "        return \"B\"\n",
    "    elif score >= 70:\n",
    "        return \"C\"\n",
    "    elif score >= 60:\n",
    "        return \"D\"\n",
    "    else:\n",
    "        return \"F\"\n",
    "\n",
    "# Example usage:\n",
    "grade1 = get_grade(85)\n",
    "print(grade1)  # Output: B\n",
    "\n",
    "grade2 = get_grade(72)\n",
    "print(grade2)  # Output: C"
   ]
  },
  {
   "cell_type": "code",
   "execution_count": null,
   "id": "2fb54b6b",
   "metadata": {},
   "outputs": [],
   "source": []
  },
  {
   "cell_type": "markdown",
   "id": "ba77b2cc",
   "metadata": {},
   "source": [
    "4. What are lambda functions in python? How are they different from regular functions? Provide an example where lambda function can be useful \n",
    "\n",
    "Lambda functions in Python are anonymous functions, meaning they are functions without a name. They are defined using the lambda keyword and can take any number of arguments but can only have a single expression. Lambda functions are commonly used when a small, one-time function is required within a larger expression or when writing short, concise code.\n",
    "\n",
    "Lambda functions are different from regular functions in a few ways:\n",
    "\n",
    "Lambda functions are anonymous: They don't have a name, so they can't be referenced or reused elsewhere in the code.\n",
    "\n",
    "Lambda functions are single-expression functions: They can only consist of a single expression and cannot contain multiple statements or have a return statement. The result of the expression is automatically returned."
   ]
  },
  {
   "cell_type": "code",
   "execution_count": 25,
   "id": "f89177c3",
   "metadata": {},
   "outputs": [
    {
     "name": "stdout",
     "output_type": "stream",
     "text": [
      "25\n",
      "25\n"
     ]
    }
   ],
   "source": [
    "# Regular function to square a number\n",
    "def square(x):\n",
    "    return x ** 2\n",
    "\n",
    "# Equivalent lambda function to square a number\n",
    "lambda_square = lambda x: x ** 2\n",
    "\n",
    "# Using the regular function\n",
    "result1 = square(5)\n",
    "print(result1)  # Output: 25\n",
    "\n",
    "# Using the lambda function\n",
    "result2 = lambda_square(5)\n",
    "print(result2)  # Output: 25"
   ]
  },
  {
   "cell_type": "markdown",
   "id": "42d07b87",
   "metadata": {},
   "source": [
    "In the above example, the lambda function lambda_square squares the input number x. It is equivalent to the regular function square. The lambda function is used to define a simple square operation in a concise manner without the need for a named function.\n",
    "\n",
    "Lambda functions are particularly useful in scenarios where a small, temporary function is needed as an argument to another function, such as with higher-order functions like map(), filter(), or reduce(). For instance:\n"
   ]
  },
  {
   "cell_type": "code",
   "execution_count": 26,
   "id": "4ad557f8",
   "metadata": {},
   "outputs": [
    {
     "name": "stdout",
     "output_type": "stream",
     "text": [
      "[1, 4, 9, 16, 25]\n",
      "[2, 4]\n"
     ]
    }
   ],
   "source": [
    "numbers = [1, 2, 3, 4, 5]\n",
    "\n",
    "# Using lambda function with map() to square each number\n",
    "squared_numbers = list(map(lambda x: x ** 2, numbers))\n",
    "print(squared_numbers)  # Output: [1, 4, 9, 16, 25]\n",
    "\n",
    "# Using lambda function with filter() to filter even numbers\n",
    "even_numbers = list(filter(lambda x: x % 2 == 0, numbers))\n",
    "print(even_numbers)  # Output: [2, 4]"
   ]
  },
  {
   "cell_type": "code",
   "execution_count": null,
   "id": "1c5855a4",
   "metadata": {},
   "outputs": [],
   "source": []
  },
  {
   "cell_type": "markdown",
   "id": "7481f605",
   "metadata": {},
   "source": [
    "5.\n",
    "How does the \"scope\" apply to functions in python? Explain the difference between local scope and global scope\n",
    "\n",
    "In Python, the term \"scope\" refers to the visibility or accessibility of variables within different parts of a program. It determines which parts of the code can access a particular variable, and for how long that variable remains valid and usable.\n",
    "\n",
    "Python has two main types of scopes: local scope and global scope.\n",
    "\n",
    "Local Scope:\n",
    "Local scope is created when a function is called, and it exists only within that function.\n",
    "Variables defined inside a function are considered local to that function and can only be accessed within the function.\n",
    "Local variables are typically used for temporary storage or intermediate calculations within a function.\n",
    "Once the function finishes executing, the local variables are destroyed, and their values are no longer accessible.\n",
    "Here's an example to illustrate local scope:"
   ]
  },
  {
   "cell_type": "code",
   "execution_count": 27,
   "id": "7c01cee8",
   "metadata": {},
   "outputs": [
    {
     "name": "stdout",
     "output_type": "stream",
     "text": [
      "10\n",
      "1\n"
     ]
    }
   ],
   "source": [
    "x=1\n",
    "\n",
    "def my_function():\n",
    "    x = 10  # local variable\n",
    "    print(x)  # accessing the local variable\n",
    "\n",
    "my_function()  # Output: 10\n",
    "print(x)  # Raises an error: NameError: name 'x' is not defined"
   ]
  },
  {
   "cell_type": "markdown",
   "id": "bb5c129b",
   "metadata": {},
   "source": [
    "In the above example, the variable x is defined within the my_function() function, making it a local variable. It can be accessed and used within the function, as demonstrated by the print(x) statement inside the function. However, trying to access x outside the function scope results in a NameError, because x is not defined in the global scope.\n",
    "\n",
    "Global Scope:\n",
    "Global scope refers to the outermost level of a program, outside of any functions or classes.\n",
    "Variables defined in the global scope are accessible from anywhere within the program, including inside functions.\n",
    "Global variables are usually used when you want a variable to be shared and accessible across multiple functions or throughout the entire program.\n",
    "Global variables can be modified inside a function using the global keyword, but it's generally considered good practice to pass them as function arguments instead.\n",
    "Here's an example showcasing global scope:"
   ]
  },
  {
   "cell_type": "code",
   "execution_count": 28,
   "id": "73b83ddc",
   "metadata": {},
   "outputs": [
    {
     "name": "stdout",
     "output_type": "stream",
     "text": [
      "10\n",
      "10\n"
     ]
    }
   ],
   "source": [
    "x = 10  # global variable\n",
    "\n",
    "def my_function():\n",
    "    global x  # accessing the global variable\n",
    "    print(x)  # accessing the global variable\n",
    "\n",
    "my_function()  # Output: 10\n",
    "print(x)  # Output: 10"
   ]
  },
  {
   "cell_type": "markdown",
   "id": "cb4c7b11",
   "metadata": {},
   "source": [
    "In the above example, the variable x is defined in the global scope. It can be accessed from within the my_function() function using the global keyword. Both the function and the global scope can access and modify the value of x, as demonstrated by the print(x) statements inside and outside the function.\n",
    "\n",
    "To summarize, local scope in Python refers to variables defined within a specific function, while global scope refers to variables defined outside any function, making them accessible throughout the program."
   ]
  },
  {
   "cell_type": "code",
   "execution_count": null,
   "id": "e1fa73ab",
   "metadata": {},
   "outputs": [],
   "source": []
  },
  {
   "cell_type": "markdown",
   "id": "8bcccf81",
   "metadata": {},
   "source": [
    "6. How can you use the \"return\" statement in a Python function to  return multiple values\n",
    "\n",
    "In Python, you can use the \"return\" statement in a function to return multiple values by separating them with commas. There are a few ways to achieve this:\n",
    "\n",
    "Returning a tuple: You can return multiple values as a tuple. Here's an example:"
   ]
  },
  {
   "cell_type": "code",
   "execution_count": 29,
   "id": "b5e0b5ea",
   "metadata": {},
   "outputs": [
    {
     "name": "stdout",
     "output_type": "stream",
     "text": [
      "(10, 'Hello', [1, 2, 3])\n"
     ]
    }
   ],
   "source": [
    "def get_values():\n",
    "    value1 = 10\n",
    "    value2 = \"Hello\"\n",
    "    value3 = [1, 2, 3]\n",
    "    return value1, value2, value3\n",
    "\n",
    "result = get_values()\n",
    "print(result)  # Output: (10, 'Hello', [1, 2, 3])"
   ]
  },
  {
   "cell_type": "markdown",
   "id": "f39fdf0a",
   "metadata": {},
   "source": [
    "In this example, the function get_values() returns three values as a tuple. When calling the function, the returned values are assigned to the variable result. The print statement displays the tuple containing the three values.\n",
    "\n",
    "Unpacking the returned tuple: If you know the number of values being returned, you can unpack them into separate variables when calling the function:"
   ]
  },
  {
   "cell_type": "code",
   "execution_count": 30,
   "id": "ececf637",
   "metadata": {},
   "outputs": [
    {
     "name": "stdout",
     "output_type": "stream",
     "text": [
      "10\n",
      "Hello\n",
      "[1, 2, 3]\n"
     ]
    }
   ],
   "source": [
    "def get_values():\n",
    "    value1 = 10\n",
    "    value2 = \"Hello\"\n",
    "    value3 = [1, 2, 3]\n",
    "    return value1, value2, value3\n",
    "\n",
    "result1, result2, result3 = get_values()\n",
    "print(result1)  # Output: 10\n",
    "print(result2)  # Output: Hello\n",
    "print(result3)  # Output: [1, 2, 3]"
   ]
  },
  {
   "cell_type": "markdown",
   "id": "0dce2469",
   "metadata": {},
   "source": [
    "In this example, the namedtuple function is used to define a named tuple called Value with fields number, greeting, and list. The function get_values() returns an instance of this named tuple, and the individual values can be accessed using dot notation (result.number, result.greeting, result.list).\n",
    "\n",
    "These are some ways you can use the \"return\" statement to return multiple values from a Python function. Choose the approach that suits your needs and coding style."
   ]
  },
  {
   "cell_type": "code",
   "execution_count": null,
   "id": "681f5364",
   "metadata": {},
   "outputs": [],
   "source": []
  },
  {
   "cell_type": "markdown",
   "id": "1deecbbf",
   "metadata": {},
   "source": [
    "7. What's the difference between the 'pass by value' and 'pass by reference' concepts when it comes to function argument in Python?\n",
    "\n",
    "In Python, the concepts of \"pass by value\" and \"pass by reference\" are slightly different from other programming languages. Python uses a mechanism called \"pass by object reference\" for function arguments. Let me explain the difference:\n",
    "\n",
    "Pass by Value:\n",
    "In pass by value, a copy of the value of the variable is passed to the function. Any changes made to the parameter inside the function do not affect the original variable outside the function. This is the behavior observed in languages like C or Java.\n",
    "For example, consider the following code snippet:\n"
   ]
  },
  {
   "cell_type": "code",
   "execution_count": 31,
   "id": "eca5f28b",
   "metadata": {},
   "outputs": [
    {
     "name": "stdout",
     "output_type": "stream",
     "text": [
      "5\n"
     ]
    }
   ],
   "source": [
    "def increment(num):\n",
    "    num += 1\n",
    "    return num\n",
    "\n",
    "value = 4\n",
    "value = increment(value)\n",
    "print(value)  # Output: 5"
   ]
  },
  {
   "cell_type": "markdown",
   "id": "7ea0fe77",
   "metadata": {},
   "source": [
    "Here, the increment function takes a parameter num. When we pass value to the increment function, a copy of the value 5 is created and assigned to num. Inside the function, num is incremented by 1, but this change does not affect the original value variable outside the function.\n",
    "\n",
    "Pass by Reference (Pass by Object Reference):\n",
    "In Python, when you pass an object as an argument to a function, a reference to that object is passed. This means that changes made to the parameter inside the function can affect the original object outside the function. However, if the function reassigns the parameter to a new object, it won't affect the original object.\n",
    "Let's consider an example:"
   ]
  },
  {
   "cell_type": "code",
   "execution_count": 32,
   "id": "7106169f",
   "metadata": {},
   "outputs": [
    {
     "name": "stdout",
     "output_type": "stream",
     "text": [
      "[1, 2, 3, 4]\n"
     ]
    }
   ],
   "source": [
    "def append_element(lst):\n",
    "    lst.append(4)\n",
    "\n",
    "my_list = [1, 2, 3]\n",
    "append_element(my_list)\n",
    "print(my_list)  # Output: [1, 2, 3, 4]"
   ]
  },
  {
   "cell_type": "markdown",
   "id": "2b7f1f5c",
   "metadata": {},
   "source": [
    "In this case, the append_element function takes a list lst. When we pass my_list to the function, a reference to my_list is passed as lst. Inside the function, we use the append() method to add an element 4 to the list. The change made to lst affects the original my_list because both variables refer to the same list object.\n",
    "\n",
    "It's important to note that reassigning the parameter to a new object will not affect the original object. For example:"
   ]
  },
  {
   "cell_type": "code",
   "execution_count": 33,
   "id": "66bf4091",
   "metadata": {},
   "outputs": [
    {
     "name": "stdout",
     "output_type": "stream",
     "text": [
      "[5, 6, 7]\n"
     ]
    }
   ],
   "source": [
    "def assign_new_list(lst):\n",
    "    lst[:] = [5, 6, 7]\n",
    "\n",
    "my_list = [1, 2, 3]\n",
    "assign_new_list(my_list)\n",
    "print(my_list)  # Output: [5, 6, 7]"
   ]
  },
  {
   "cell_type": "markdown",
   "id": "6a2137d4",
   "metadata": {},
   "source": [
    "In this case, even though lst is assigned a new list object [5, 6, 7], the original my_list remains unchanged. This is because the assignment lst = [5, 6, 7] creates a new reference inside the function, but it does not affect the reference outside the function.\n",
    "\n",
    "In summary, while Python uses \"pass by object reference\" for function arguments, it behaves similarly to \"pass by value\" when the parameter is reassigned to a new object and behaves more like \"pass by reference\" when the parameter's attributes or elements are modified."
   ]
  },
  {
   "cell_type": "code",
   "execution_count": null,
   "id": "d5ff13c9",
   "metadata": {},
   "outputs": [],
   "source": []
  },
  {
   "cell_type": "markdown",
   "id": "9db024bf",
   "metadata": {},
   "source": [
    "8. Create a function that can intake integer or decimal value and do following operations:\n",
    "    \n",
    "    a. Logarithmic function (log x) \n",
    "    \n",
    "    b. Exponential function (exp(x)) \n",
    "    \n",
    "    c. Power function with base 2 (2x) \n",
    "    \n",
    "    d. Square root "
   ]
  },
  {
   "cell_type": "code",
   "execution_count": 34,
   "id": "f43d4542",
   "metadata": {},
   "outputs": [
    {
     "name": "stdout",
     "output_type": "stream",
     "text": [
      "Logarithmic function: 1.5040773967762742\n",
      "Exponential function: 90.01713130052181\n",
      "Power function with base 2: 22.627416997969522\n",
      "Square root: 2.1213203435596424\n"
     ]
    }
   ],
   "source": [
    "import math\n",
    "\n",
    "def perform_operations(value):\n",
    "    result = {}\n",
    "\n",
    "    # Logarithmic function (log x)\n",
    "    result['logarithm'] = math.log(value)\n",
    "\n",
    "    # Exponential function (exp(x))\n",
    "    result['exponential'] = math.exp(value)\n",
    "\n",
    "    # Power function with base 2 (2^x)\n",
    "    result['power'] = math.pow(2, value)\n",
    "\n",
    "    # Square root\n",
    "    result['square_root'] = math.sqrt(value)\n",
    "\n",
    "    return result\n",
    "#You can use this function to perform the desired operations. Here's an example of how to use it:\n",
    "value = 4.5\n",
    "operations_result = perform_operations(value)\n",
    "\n",
    "print(\"Logarithmic function:\", operations_result['logarithm'])\n",
    "print(\"Exponential function:\", operations_result['exponential'])\n",
    "print(\"Power function with base 2:\", operations_result['power'])\n",
    "print(\"Square root:\", operations_result['square_root'])"
   ]
  },
  {
   "cell_type": "code",
   "execution_count": null,
   "id": "aa594a3f",
   "metadata": {},
   "outputs": [],
   "source": []
  },
  {
   "cell_type": "markdown",
   "id": "19f64947",
   "metadata": {},
   "source": [
    "9. Create a function that takes a full name as an argument and returns first name and last name"
   ]
  },
  {
   "cell_type": "code",
   "execution_count": 35,
   "id": "1ef5d92d",
   "metadata": {},
   "outputs": [
    {
     "name": "stdout",
     "output_type": "stream",
     "text": [
      "First Name: Sunday\n",
      "Last Name: Dennis\n"
     ]
    }
   ],
   "source": [
    "# Here's a Python function that takes a full name as an argument and returns the first name and last name:\n",
    "\n",
    "\n",
    "def get_first_and_last_name(full_name):\n",
    "    # Split the full name into a list of words\n",
    "    name_parts = full_name.split()\n",
    "\n",
    "    # Extract the first name (first word)\n",
    "    first_name = name_parts[0]\n",
    "\n",
    "    # Extract the last name (last word)\n",
    "    last_name = name_parts[-1]\n",
    "\n",
    "    return first_name, last_name\n",
    "\n",
    "\n",
    "full_name = \"Sunday Dennis\"\n",
    "first_name, last_name = get_first_and_last_name(full_name)\n",
    "print(\"First Name:\", first_name)\n",
    "print(\"Last Name:\", last_name)"
   ]
  },
  {
   "cell_type": "markdown",
   "id": "d6f29128",
   "metadata": {},
   "source": [
    "You can use this function by passing a full name as a string argument, and it will return a tuple containing the first name and last name. Here's an example usage:\n"
   ]
  },
  {
   "cell_type": "code",
   "execution_count": null,
   "id": "1e5e6a00",
   "metadata": {},
   "outputs": [],
   "source": []
  }
 ],
 "metadata": {
  "kernelspec": {
   "display_name": "Python 3 (ipykernel)",
   "language": "python",
   "name": "python3"
  },
  "language_info": {
   "codemirror_mode": {
    "name": "ipython",
    "version": 3
   },
   "file_extension": ".py",
   "mimetype": "text/x-python",
   "name": "python",
   "nbconvert_exporter": "python",
   "pygments_lexer": "ipython3",
   "version": "3.10.9"
  }
 },
 "nbformat": 4,
 "nbformat_minor": 5
}
